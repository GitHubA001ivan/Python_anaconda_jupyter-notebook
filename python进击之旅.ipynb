{
 "cells": [
  {
   "cell_type": "markdown",
   "metadata": {},
   "source": [
    "#  主要内容\n",
    "- 坚持写Blog\n",
    "- jupyter notebook的用法\n",
    "- 变量\n",
    "- 跟vi/vim的编辑模式很像"
   ]
  },
  {
   "cell_type": "code",
   "execution_count": 6,
   "metadata": {
    "scrolled": true
   },
   "outputs": [],
   "source": [
    "#声明的三种格式\n",
    "#格式1\n",
    "a1 = \"Hello world!\"\n",
    "\n",
    "#格式2\n",
    "a2 = a1 = \"Hello world!\"\n",
    "\n",
    "#格式3\n",
    "a1,a2,a3 = \"Hello world!\",\"你好！\",\"你们好！\""
   ]
  },
  {
   "cell_type": "markdown",
   "metadata": {},
   "source": [
    "# 变量类型\n",
    "- 严格意义上讲，python只有一个类型\n",
    "- 标准数据类型六种\n",
    "   - 数字Number\n",
    "   - 字符串 str\n",
    "   - 列表 list\n",
    "   - 元组 tuple\n",
    "   - 字典 dict\n",
    "   - 集合 set"
   ]
  },
  {
   "cell_type": "markdown",
   "metadata": {},
   "source": [
    "# 数据类型 Number\n",
    "- python中的数字没有大小限制\n",
    "# 常见的数字分类\n",
    "- 整数\n",
    "  - 没有小数部分\n",
    "  - 包含小数，负数，0\n",
    "  - 二进制\n",
    "    - 只有 0，1\n",
    "    - 一0b开头的的01串\n",
    "      - 例如：\n",
    "        - 0b110\n",
    "        - 0b11110\n",
    "  - 八进制:\n",
    "    - 以0o开头的 0到7 之间的数字串\n",
    "    - 例如\n",
    "      - 0o71\n",
    "  - 十六进制\n",
    "    - 以0x组成的由 0-9 ，  a-fg构成的串\n",
    "    \n",
    "- 浮点数\n",
    "  - 通常意义上的小数\n",
    "  - 常见案例：\n",
    "    -3.1415926\n",
    "    - 3.\n",
    "    - .4\n",
    "    - 0.4\n",
    "- 科学计数法\n",
    "  - 定义与数学一致\n",
    "  - 写法就是e后面跟整数，用来表示10的指数\n",
    "   "
   ]
  },
  {
   "cell_type": "code",
   "execution_count": 8,
   "metadata": {},
   "outputs": [
    {
     "name": "stdout",
     "output_type": "stream",
     "text": [
      "6\n",
      "30\n"
     ]
    }
   ],
   "source": [
    "#二进制定义\n",
    "a1 = 0b110\n",
    "print(a1)\n",
    "\n",
    "a2 = 0b11110\n",
    "print(a2)"
   ]
  },
  {
   "cell_type": "code",
   "execution_count": 9,
   "metadata": {},
   "outputs": [
    {
     "name": "stdout",
     "output_type": "stream",
     "text": [
      "57\n"
     ]
    }
   ],
   "source": [
    "#八进制\n",
    "a3 = 0o71\n",
    "print(a3)"
   ]
  },
  {
   "cell_type": "code",
   "execution_count": 11,
   "metadata": {},
   "outputs": [
    {
     "name": "stdout",
     "output_type": "stream",
     "text": [
      "65535\n",
      "347954\n"
     ]
    }
   ],
   "source": [
    "#十六进制\n",
    "a4 = 0xffff\n",
    "print(a4)\n",
    "\n",
    "a5 = 0x54f32\n",
    "print(a5)"
   ]
  },
  {
   "cell_type": "code",
   "execution_count": 8,
   "metadata": {},
   "outputs": [
    {
     "name": "stdout",
     "output_type": "stream",
     "text": [
      "180\n",
      "180.0\n",
      "0.3\n"
     ]
    }
   ],
   "source": [
    "#科学技术法\n",
    "height = 180\n",
    "print(height)\n",
    "\n",
    "height2 = 1.8e2\n",
    "print(height2)\n",
    "\n",
    "a4 = .3\n",
    "print(a4)"
   ]
  },
  {
   "cell_type": "markdown",
   "metadata": {},
   "source": [
    "# 复数 complex\n",
    "- 与数学定义一致\n",
    "- 复数的虚部用j/J表示\n",
    "  - 例如：\n",
    "    - 5+4j\n",
    "    - 4j\n",
    "    - (4j)"
   ]
  },
  {
   "cell_type": "code",
   "execution_count": 10,
   "metadata": {},
   "outputs": [
    {
     "name": "stdout",
     "output_type": "stream",
     "text": [
      "4j\n"
     ]
    }
   ],
   "source": [
    "a = 4j\n",
    "print(a)\n"
   ]
  },
  {
   "cell_type": "markdown",
   "metadata": {},
   "source": [
    "# 布尔值\n",
    "- 用来表示真假的值\n",
    "- 只有两个值：True/False\n",
    "- 在python 中可以当数字使用\n",
    "  - True = 1;False = 0\n",
    "  - 如果数字用来当做布尔值使用，0 = False;其余当做True"
   ]
  },
  {
   "cell_type": "code",
   "execution_count": 13,
   "metadata": {},
   "outputs": [
    {
     "name": "stdout",
     "output_type": "stream",
     "text": [
      "19\n",
      "18\n",
      "负数是True\n"
     ]
    }
   ],
   "source": [
    "#布尔值当做数字使用\n",
    "age = 18 + True\n",
    "print(age)\n",
    "\n",
    "age = 18 + False\n",
    "print(age)\n",
    "\n",
    "#判断语句\n",
    "a = -1\n",
    "if a:\n",
    "    print(\"负数是True\")\n",
    "else:\n",
    "    print(\"负数是False\")"
   ]
  },
  {
   "cell_type": "markdown",
   "metadata": {},
   "source": [
    "# 字符串\n",
    "- 表达文字信息的内容，比如“你好，世界！”\n",
    "- 形式上是 引号引起来的内容\n",
    "- 引号包括\n",
    "  - 单引号 ' '\n",
    "  - 双引号 \" \"\n",
    "  - 三引号 '''    '''可以用来表示多行信息\n",
    "- 单双引号含义一致\n",
    "  \n"
   ]
  },
  {
   "cell_type": "code",
   "execution_count": 5,
   "metadata": {},
   "outputs": [
    {
     "name": "stdout",
     "output_type": "stream",
     "text": [
      "\n",
      "      山居秋暝\n",
      "      唐•王维\n",
      "空山新雨后，天气晚来秋。\n",
      "明月松间照，清泉石上流。\n",
      "竹喧归浣女，莲动下渔舟。\n",
      "随意春芳歇，王孙自可留。\n"
     ]
    }
   ],
   "source": [
    "poem = \"\"\"\n",
    "      山居秋暝\n",
    "      唐•王维\n",
    "空山新雨后，天气晚来秋。\n",
    "明月松间照，清泉石上流。\n",
    "竹喧归浣女，莲动下渔舟。\n",
    "随意春芳歇，王孙自可留。\"\"\"\n",
    "\n",
    "print(poem)"
   ]
  },
  {
   "cell_type": "markdown",
   "metadata": {},
   "source": [
    "# None类型\n",
    "- 表示没有，通常用来占位\n",
    "- 例如返回，用来表示返回一个空\n"
   ]
  },
  {
   "cell_type": "markdown",
   "metadata": {},
   "source": [
    "# 表达式\n",
    "- 由一个数字或者几个数字、变量、运算符合成的一行代码\n",
    "- 通常返回一个结果\n",
    "# 运算符\n",
    "- 由由一个以上的值经过一系列的运算得到新值得过程就叫运算\n",
    "- 用来操作运算的符号叫运算符\n",
    "- 运算符分类\n",
    "  - 算数运算符\n",
    "  - 比较或者关系运算符\n",
    "  - 赋值运算符\n",
    "  - 逻辑运算符\n",
    "  - 位运算\n",
    "  - 成员运算符\n",
    "  - 身份运算符"
   ]
  },
  {
   "cell_type": "code",
   "execution_count": 6,
   "metadata": {},
   "outputs": [],
   "source": [
    "#表达式\n",
    "a = 1 + 2\n"
   ]
  },
  {
   "cell_type": "markdown",
   "metadata": {},
   "source": [
    "## 算数运算符\n",
    "- 用来算数运算的符号\n",
    "- 通常用来表示加减乘除\n",
    "- python没有自增自减运算符"
   ]
  },
  {
   "cell_type": "code",
   "execution_count": 8,
   "metadata": {},
   "outputs": [
    {
     "name": "stdout",
     "output_type": "stream",
     "text": [
      "15\n",
      "-1\n",
      "56\n",
      "0.875\n",
      "7\n",
      "8\n",
      "2\n"
     ]
    }
   ],
   "source": [
    "#算数运算符\n",
    "#加减乘除\n",
    "a = 7\n",
    "b = 8\n",
    "c = 9\n",
    " \n",
    "c = a + b\n",
    "print(c)\n",
    " \n",
    "c = a - b\n",
    "print(c) \n",
    " \n",
    "c = a * b\n",
    "print(c) \n",
    " \n",
    "c = a / b\n",
    "print(c) \n",
    " \n",
    "c = a % b\n",
    "print(c)\n",
    " \n",
    "# 修改变量 a 、b 、c\n",
    "a = 2\n",
    "b = 3\n",
    "c = a**b \n",
    "print(c)\n",
    " \n",
    "a = 10\n",
    "b = 5\n",
    "c = a//b \n",
    "print(c)"
   ]
  },
  {
   "cell_type": "code",
   "execution_count": 24,
   "metadata": {},
   "outputs": [
    {
     "name": "stdout",
     "output_type": "stream",
     "text": [
      "-3\n"
     ]
    }
   ],
   "source": [
    "a1 = 9\n",
    "b = -4\n",
    "print(a1%b )"
   ]
  },
  {
   "cell_type": "markdown",
   "metadata": {},
   "source": [
    "# 负数取余数\n",
    "- 任何一个整数n都可以表示成n=k*q+r其中0<=|r|<|q|这里的r就是n除以q的余数，即r==n%q例\n",
    "- 取余运算:\n",
    "  - 9 = k*(-4)+r;(k≠0)\n",
    "  - r = -3\n"
   ]
  },
  {
   "cell_type": "markdown",
   "metadata": {},
   "source": [
    "# 比较运算符\n",
    "- 对两个进行比较的运算符\n",
    "- 结果是一个布尔值,True/False\n"
   ]
  },
  {
   "cell_type": "code",
   "execution_count": 6,
   "metadata": {},
   "outputs": [
    {
     "name": "stdout",
     "output_type": "stream",
     "text": [
      "False\n",
      "True\n",
      "False\n",
      "False\n"
     ]
    }
   ],
   "source": [
    "# 等于  ==\n",
    "a = 3 == 4\n",
    "print(a)\n",
    "\n",
    "#不等于 !=\n",
    "a = 3 != 4\n",
    "print(a)\n",
    "\n",
    "# >,>=,<,<=\n",
    "\n",
    "print(3 >= 8)\n",
    "\n",
    "print(\"sdgrf\" == \"sdfasdf\")"
   ]
  },
  {
   "cell_type": "markdown",
   "metadata": {},
   "source": [
    "# 赋值运算符\n",
    "- 把一个值放到变量里面去\n"
   ]
  },
  {
   "cell_type": "code",
   "execution_count": 10,
   "metadata": {},
   "outputs": [
    {
     "name": "stdout",
     "output_type": "stream",
     "text": [
      "12\n",
      "12\n",
      "15\n"
     ]
    }
   ],
   "source": [
    "# 赋值 =\n",
    "a = 12  \n",
    "#等于号右面的内容拥有优先运算\n",
    "print(a)\n",
    "\n",
    "#复杂赋值\n",
    "\n",
    "a = b = 12\n",
    "a,b =1,2\n",
    "\n",
    "#赋值的缩写\n",
    "c = 0\n",
    "c = c + 12\n",
    "print(c)\n",
    "\n",
    "\n",
    "c += 3  # c = c +3\n",
    "\n",
    "print(c)"
   ]
  },
  {
   "cell_type": "markdown",
   "metadata": {},
   "source": [
    "- 所有数学运算符都可以缩写\n",
    "- -=，  *=， /=, //=, %=, **=,都是缩写形式\n",
    "- python里面没有 ++（自加），--（自减）"
   ]
  },
  {
   "cell_type": "code",
   "execution_count": null,
   "metadata": {},
   "outputs": [],
   "source": []
  }
 ],
 "metadata": {
  "kernelspec": {
   "display_name": "Python 3",
   "language": "python",
   "name": "python3"
  },
  "language_info": {
   "codemirror_mode": {
    "name": "ipython",
    "version": 3
   },
   "file_extension": ".py",
   "mimetype": "text/x-python",
   "name": "python",
   "nbconvert_exporter": "python",
   "pygments_lexer": "ipython3",
   "version": "3.7.4"
  }
 },
 "nbformat": 4,
 "nbformat_minor": 2
}
